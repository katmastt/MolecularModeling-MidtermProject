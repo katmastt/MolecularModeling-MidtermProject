{
 "cells": [
  {
   "cell_type": "markdown",
   "id": "edb03abd",
   "metadata": {},
   "source": [
    "<h5>First import the required packages and load the trajectory</h5>"
   ]
  },
  {
   "cell_type": "code",
   "execution_count": 19,
   "id": "ca014573",
   "metadata": {},
   "outputs": [],
   "source": [
    "from __future__ import print_function\n",
    "%matplotlib inline\n",
    "import mdtraj as md\n",
    "import numpy as np\n",
    "import matplotlib.pyplot as plt\n",
    "import scipy.cluster.hierarchy\n",
    "from scipy.cluster.hierarchy import fcluster\n",
    "from scipy.spatial.distance import squareform\n",
    "import os\n",
    "import MDAnalysis as mda\n",
    "\n",
    "traj = md.load('kras_prod.dcd', top='ionized.psf')"
   ]
  },
  {
   "cell_type": "markdown",
   "id": "6e10045d",
   "metadata": {},
   "source": [
    "<h5>Calculate RMSD as we did on class</h5>"
   ]
  },
  {
   "cell_type": "code",
   "execution_count": 8,
   "id": "e4df798e",
   "metadata": {},
   "outputs": [
    {
     "name": "stdout",
     "output_type": "stream",
     "text": [
      "<mdtraj.Trajectory with 2000 frames, 680 atoms, 170 residues, and unitcells>\n",
      "Max pairwise rmsd: 0.162733 nm\n"
     ]
    }
   ],
   "source": [
    "protein_sel = traj.topology.select('protein and backbone')\n",
    "protein_traj = traj.atom_slice(protein_sel)\n",
    "print(protein_traj)\n",
    "\n",
    "distances = np.empty((protein_traj.n_frames, protein_traj.n_frames))\n",
    "for i in range(protein_traj.n_frames):\n",
    "    distances[i] = md.rmsd(protein_traj, protein_traj, i)\n",
    "    #print(distances[i])\n",
    "print('Max pairwise rmsd: %f nm' % np.max(distances))"
   ]
  },
  {
   "cell_type": "markdown",
   "id": "b5ab5bfc",
   "metadata": {},
   "source": [
    "<h5>Using the average linkage function for clustering and make the plot</h5>"
   ]
  },
  {
   "cell_type": "code",
   "execution_count": 7,
   "id": "36c6ae37",
   "metadata": {},
   "outputs": [
    {
     "data": {
      "image/png": "[encoded data removed]",
      "text/plain": [
       "<Figure size 432x288 with 1 Axes>"
      ]
     },
     "metadata": {
      "needs_background": "light"
     },
     "output_type": "display_data"
    }
   ],
   "source": [
    "linkage = scipy.cluster.hierarchy.linkage(distances, method='average')\n",
    "plt.title('RMSD Average linkage hierarchical clustering')\n",
    "_ = scipy.cluster.hierarchy.dendrogram(linkage, no_labels=True, count_sort='descendent')"
   ]
  },
  {
   "cell_type": "markdown",
   "id": "882bc146",
   "metadata": {},
   "source": [
    "<h5>To calculate the 4 clusters of the plot, we should flatten the dentogram and use as maxdistance 0.7 A. The most populated cluster is the second one</h5>"
   ]
  },
  {
   "cell_type": "code",
   "execution_count": 13,
   "id": "bbe5b84c",
   "metadata": {},
   "outputs": [
    {
     "name": "stdout",
     "output_type": "stream",
     "text": [
      "1239\n",
      "[ 691  692  693 ... 1997 1998 1999]\n"
     ]
    }
   ],
   "source": [
    "clusters = fcluster(linkage, 0.7, criterion='distance')\n",
    "\n",
    "cluster2=np.where(clusters==2)\n",
    "print(len(cluster2[0]))\n",
    "print(cluster2[0])\n",
    "traj_cluster2=traj[cluster2]"
   ]
  },
  {
   "cell_type": "markdown",
   "id": "69a6ef45",
   "metadata": {},
   "source": [
    "<h5>Find the centroid (most representative structure of the cluster). See: https://www.mdtraj.org/1.9.5/examples/centroids.html </h5>"
   ]
  },
  {
   "cell_type": "code",
   "execution_count": 17,
   "id": "b36d6ff0",
   "metadata": {},
   "outputs": [
    {
     "name": "stdout",
     "output_type": "stream",
     "text": [
      "729\n",
      "<mdtraj.Trajectory with 1 frames, 23296 atoms, 7055 residues, and unitcells>\n"
     ]
    }
   ],
   "source": [
    "atom_indices = [a.index for a in traj_cluster2.topology.atoms if a.element.symbol != 'H']\n",
    "distances = np.empty((traj_cluster2.n_frames, traj_cluster2.n_frames))\n",
    "for i in range(traj_cluster2.n_frames):\n",
    "    distances[i] = md.rmsd(traj_cluster2, traj_cluster2, i, atom_indices=atom_indices)\n",
    "beta = 1\n",
    "index = np.exp(-beta*distances / distances.std()).sum(axis=1).argmax()\n",
    "print(index)\n",
    "centroid = traj[index]\n",
    "print(centroid)"
   ]
  }
 ],
 "metadata": {
  "celltoolbar": "Edit Metadata",
  "kernelspec": {
   "display_name": "Python 3 (ipykernel)",
   "language": "python",
   "name": "python3"
  },
  "language_info": {
   "codemirror_mode": {
    "name": "ipython",
    "version": 3
   },
   "file_extension": ".py",
   "mimetype": "text/x-python",
   "name": "python",
   "nbconvert_exporter": "python",
   "pygments_lexer": "ipython3",
   "version": "3.9.7"
  }
 },
 "nbformat": 4,
 "nbformat_minor": 5
}
